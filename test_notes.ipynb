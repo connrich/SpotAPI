{
 "cells": [
  {
   "cell_type": "markdown",
   "metadata": {},
   "source": [
    "### Import Relevant Libraries"
   ]
  },
  {
   "cell_type": "code",
   "execution_count": 12,
   "metadata": {},
   "outputs": [],
   "source": [
    "# Local system interaction\n",
    "import os\n",
    "from dotenv import load_dotenv\n",
    "from pathlib import Path\n",
    "\n",
    "# HTTPS Request\n",
    "import requests"
   ]
  },
  {
   "cell_type": "markdown",
   "metadata": {},
   "source": [
    "### Get Access Token"
   ]
  },
  {
   "cell_type": "code",
   "execution_count": null,
   "metadata": {},
   "outputs": [],
   "source": [
    "# Load the local .env or create it if it does not exist\n",
    "env_path = Path('.env')\n",
    "env_path.touch(mode=0o600)\n",
    "load_dotenv()\n",
    "\n",
    "# Load Spotify app ID\n",
    "client_id = os.getenv('CLIENT_ID')\n",
    "client_id_secret = os.getenv('CLIENT_ID_SECRET')\n",
    "\n",
    "# Post a request to gain an access token valid for 1 hour\n",
    "response = requests.post(\"https://accounts.spotify.com/api/token\", \n",
    "                        headers={'Content-Type': 'application/x-www-form-urlencoded'},\n",
    "                        data=f'grant_type=client_credentials&client_id={client_id}&client_secret={client_id_secret}')\n",
    "access_token = response.json()['access_token']"
   ]
  },
  {
   "cell_type": "markdown",
   "metadata": {},
   "source": [
    "### Request Artist Data"
   ]
  },
  {
   "cell_type": "code",
   "execution_count": null,
   "metadata": {},
   "outputs": [
    {
     "name": "stdout",
     "output_type": "stream",
     "text": [
      "{'external_urls': {'spotify': 'https://open.spotify.com/artist/4Z8W4fKeB5YxbusRsdQVPb'}, 'followers': {'href': None, 'total': 11635341}, 'genres': ['art rock', 'alternative rock'], 'href': 'https://api.spotify.com/v1/artists/4Z8W4fKeB5YxbusRsdQVPb', 'id': '4Z8W4fKeB5YxbusRsdQVPb', 'images': [{'url': 'https://i.scdn.co/image/ab6761610000e5eba03696716c9ee605006047fd', 'height': 640, 'width': 640}, {'url': 'https://i.scdn.co/image/ab67616100005174a03696716c9ee605006047fd', 'height': 320, 'width': 320}, {'url': 'https://i.scdn.co/image/ab6761610000f178a03696716c9ee605006047fd', 'height': 160, 'width': 160}], 'name': 'Radiohead', 'popularity': 84, 'type': 'artist', 'uri': 'spotify:artist:4Z8W4fKeB5YxbusRsdQVPb'}\n"
     ]
    }
   ],
   "source": [
    "# Use the access token to get API response for Radiohead\n",
    "artist_data = requests.get(\"https://api.spotify.com/v1/artists/4Z8W4fKeB5YxbusRsdQVPb\", \n",
    "                           headers={'Authorization': f'Bearer  {access_token}'})\n",
    "print(artist_data.json())"
   ]
  }
 ],
 "metadata": {
  "kernelspec": {
   "display_name": "Python 3",
   "language": "python",
   "name": "python3"
  },
  "language_info": {
   "codemirror_mode": {
    "name": "ipython",
    "version": 3
   },
   "file_extension": ".py",
   "mimetype": "text/x-python",
   "name": "python",
   "nbconvert_exporter": "python",
   "pygments_lexer": "ipython3",
   "version": "3.10.5"
  }
 },
 "nbformat": 4,
 "nbformat_minor": 2
}
